{
 "cells": [
  {
   "cell_type": "markdown",
   "metadata": {},
   "source": [
    "# [ 표준편차 vs. 표준오차 ]"
   ]
  },
  {
   "cell_type": "markdown",
   "metadata": {},
   "source": [
    "  "
   ]
  },
  {
   "cell_type": "markdown",
   "metadata": {},
   "source": [
    "## 1. 모집단과 표본집단"
   ]
  },
  {
   "cell_type": "markdown",
   "metadata": {},
   "source": [
    "* **모집단** : 정보를 얻고자하는 관심 대상의 전체 집합\n",
    "* **모수** &nbsp;&nbsp;&nbsp;: 모집단의 분포 특성값 ( $\\mu, \\sigma^2$ )"
   ]
  },
  {
   "cell_type": "markdown",
   "metadata": {},
   "source": [
    "* **표본** &nbsp; &nbsp; : 모집단의 부분집합, 랜덤하게 뽑아야 함  \n",
    "\n",
    "* **표본 통계량** : 표본집단의 분포 특성 값 ( $\\bar{x}, s^2$ )  "
   ]
  },
  {
   "cell_type": "markdown",
   "metadata": {},
   "source": [
    "  "
   ]
  },
  {
   "cell_type": "markdown",
   "metadata": {},
   "source": [
    "  "
   ]
  },
  {
   "cell_type": "markdown",
   "metadata": {},
   "source": [
    "## 2. 표준편차 (Standard Deviation, SD)"
   ]
  },
  {
   "cell_type": "markdown",
   "metadata": {},
   "source": [
    "* <h4>편차(deviation) : 개별값과 평균값의 차이</h4>\n",
    "* <h4>분산 (variance)  : 편차 제곱의 평균 </h4>\n",
    "* <h4>표준편차(stanadard deviation) : 분산의 제곱근($\\sqrt{\\\\}$)</h4>"
   ]
  },
  {
   "cell_type": "markdown",
   "metadata": {},
   "source": [
    "  "
   ]
  },
  {
   "cell_type": "markdown",
   "metadata": {},
   "source": [
    "* **표준편차** : \"모표준편차\", \"표본표준편차\" 로 나뉨"
   ]
  },
  {
   "cell_type": "markdown",
   "metadata": {},
   "source": [
    "$\\quad$ ○ 모표준편차 : 모집단의 표준편차, $ \\sigma = \\sqrt { \\dfrac {\\sum(x - \\mu)^2}{n}}$"
   ]
  },
  {
   "cell_type": "markdown",
   "metadata": {},
   "source": [
    "$\\quad$ ○ 표본표준편차 : 표본의 표준편차,   $ s = \\sqrt { \\dfrac {\\sum(x - \\bar{x})^2}{n-1}}$"
   ]
  },
  {
   "cell_type": "markdown",
   "metadata": {},
   "source": [
    "  "
   ]
  },
  {
   "cell_type": "markdown",
   "metadata": {},
   "source": [
    "  "
   ]
  },
  {
   "cell_type": "markdown",
   "metadata": {},
   "source": [
    "##  3. 표준오차 (Standard Error of Mean, SEM)  "
   ]
  },
  {
   "cell_type": "markdown",
   "metadata": {},
   "source": [
    "* 표본오차란 **표본평균의 표준 편차**를 의미한다  \n",
    "  \n",
    "* 표본 통계량은 항상 오차가 수반된다.\n",
    "\n",
    "* $ SEM = \\sqrt{Var[\\bar{X}]} = \\dfrac{s}{\\sqrt{n}} $"
   ]
  },
  {
   "cell_type": "markdown",
   "metadata": {},
   "source": [
    "n개의 표본집단을 랜덤하게 추출하였을 때, 표본 평균은 다음과 같이 계산된다."
   ]
  },
  {
   "cell_type": "markdown",
   "metadata": {},
   "source": [
    "$\n",
    "\\begin{equation*}\n",
    "{\\bar{X}}=\n",
    "\\dfrac{1}{n} \\displaystyle \\sum_{i=1}^n X_i\n",
    "\\end{equation*}\n",
    "$  "
   ]
  },
  {
   "cell_type": "markdown",
   "metadata": {},
   "source": [
    "표본평균의 분산의 계산은 다음과 같다"
   ]
  },
  {
   "cell_type": "markdown",
   "metadata": {},
   "source": [
    "$ \n",
    "\\begin{equation*}\n",
    "Var[\\bar{X}]=\n",
    "Var\n",
    "\\Biggl[ \n",
    "\\dfrac{1}{n} \\displaystyle \\sum_{i=1}^n X_i\n",
    "\\Biggr] =\n",
    "Var\n",
    "\\Biggl[ \n",
    "\\dfrac{1}{n} (X_1+X_2+ \\cdots +X_n)\n",
    "\\Biggr] \n",
    "\\end{equation*} \n",
    "$\n",
    "\n",
    "$\\text{( 분산 연산 규칙에 의하여 )}$  \n",
    " \n",
    "$\n",
    "=\\dfrac{1}{n^2} Var[X_1+X_2+ \\cdots +X_n] =\n",
    "\\dfrac{1}{n^2} \\times n \\times Var[X] =\n",
    "\\dfrac{1}{n} Var[X]\n",
    "$\n",
    "\n",
    "<br />\n",
    "\n",
    "표본평균의 표준편차는   \n",
    "<br />\n",
    "$\\sqrt{Var[\\bar{X}]}= \\dfrac{\\sigma}{\\sqrt{n}}$  \n",
    "<br />\n",
    "모분산의 추정치를 $s^2$ 라고 했을때, 표본 평균의 표준편차는 다음과 같다.   \n",
    "<br />\n",
    "$ SEM = \\sqrt{Var[\\bar{X}]} = \\dfrac{s}{\\sqrt{n}} $"
   ]
  },
  {
   "cell_type": "markdown",
   "metadata": {},
   "source": [
    "  \n",
    "  "
   ]
  },
  {
   "cell_type": "markdown",
   "metadata": {},
   "source": [
    "  \n",
    "  "
   ]
  },
  {
   "cell_type": "markdown",
   "metadata": {},
   "source": [
    "  \n",
    "  "
   ]
  },
  {
   "cell_type": "markdown",
   "metadata": {},
   "source": [
    "  \n",
    "  "
   ]
  },
  {
   "cell_type": "markdown",
   "metadata": {},
   "source": [
    "  \n",
    "  "
   ]
  },
  {
   "cell_type": "markdown",
   "metadata": {},
   "source": [
    "  \n",
    "  "
   ]
  },
  {
   "cell_type": "code",
   "execution_count": 2,
   "metadata": {},
   "outputs": [],
   "source": [
    "library(ISLR)"
   ]
  },
  {
   "cell_type": "markdown",
   "metadata": {},
   "source": [
    "### 4. 편차(deviation) : 평균에서 개별값을 뺀것"
   ]
  },
  {
   "cell_type": "code",
   "execution_count": 3,
   "metadata": {
    "scrolled": true
   },
   "outputs": [
    {
     "data": {
      "text/html": [
       "<style>\n",
       ".list-inline {list-style: none; margin:0; padding: 0}\n",
       ".list-inline>li {display: inline-block}\n",
       ".list-inline>li:not(:last-child)::after {content: \"\\00b7\"; padding: 0 .5ex}\n",
       "</style>\n",
       "<ol class=list-inline><li>25.530612244898</li><li>60.530612244898</li><li>45.530612244898</li><li>45.530612244898</li><li>35.530612244898</li><li>93.530612244898</li></ol>\n"
      ],
      "text/latex": [
       "\\begin{enumerate*}\n",
       "\\item 25.530612244898\n",
       "\\item 60.530612244898\n",
       "\\item 45.530612244898\n",
       "\\item 45.530612244898\n",
       "\\item 35.530612244898\n",
       "\\item 93.530612244898\n",
       "\\end{enumerate*}\n"
      ],
      "text/markdown": [
       "1. 25.530612244898\n",
       "2. 60.530612244898\n",
       "3. 45.530612244898\n",
       "4. 45.530612244898\n",
       "5. 35.530612244898\n",
       "6. 93.530612244898\n",
       "\n",
       "\n"
      ],
      "text/plain": [
       "[1] 25.53061 60.53061 45.53061 45.53061 35.53061 93.53061"
      ]
     },
     "metadata": {},
     "output_type": "display_data"
    }
   ],
   "source": [
    "head(Auto$horsepower-mean(Auto$horsepower))"
   ]
  },
  {
   "cell_type": "markdown",
   "metadata": {},
   "source": [
    "  "
   ]
  },
  {
   "cell_type": "markdown",
   "metadata": {},
   "source": [
    "  "
   ]
  },
  {
   "cell_type": "markdown",
   "metadata": {},
   "source": [
    "### 5. 표준편차(standard deviation) : 평균에서 개별값과의 차이의 평균"
   ]
  },
  {
   "cell_type": "markdown",
   "metadata": {},
   "source": [
    "* 모   표준편차 : 모집단의 표준편차, $ \\sigma = \\sqrt { \\dfrac {\\sum(x - \\mu)^2}{n}}$"
   ]
  },
  {
   "cell_type": "markdown",
   "metadata": {},
   "source": [
    "* 표본 표준편차 : 표본의 표준편차,   $ s = \\sqrt { \\dfrac {\\sum(x - \\bar{x})^2}{n-1}}$"
   ]
  },
  {
   "cell_type": "code",
   "execution_count": 5,
   "metadata": {
    "scrolled": true
   },
   "outputs": [
    {
     "data": {
      "text/html": [
       "38.4911599328285"
      ],
      "text/latex": [
       "38.4911599328285"
      ],
      "text/markdown": [
       "38.4911599328285"
      ],
      "text/plain": [
       "[1] 38.49116"
      ]
     },
     "metadata": {},
     "output_type": "display_data"
    }
   ],
   "source": [
    "sqrt(sum((Auto$horsepower-mean(Auto$horsepower))^2)/(length(Auto$horsepower)-1))"
   ]
  },
  {
   "cell_type": "code",
   "execution_count": 6,
   "metadata": {},
   "outputs": [
    {
     "data": {
      "text/html": [
       "38.4911599328285"
      ],
      "text/latex": [
       "38.4911599328285"
      ],
      "text/markdown": [
       "38.4911599328285"
      ],
      "text/plain": [
       "[1] 38.49116"
      ]
     },
     "metadata": {},
     "output_type": "display_data"
    }
   ],
   "source": [
    "sd(Auto$horsepower)"
   ]
  },
  {
   "cell_type": "code",
   "execution_count": 7,
   "metadata": {},
   "outputs": [
    {
     "data": {
      "text/html": [
       "392"
      ],
      "text/latex": [
       "392"
      ],
      "text/markdown": [
       "392"
      ],
      "text/plain": [
       "[1] 392"
      ]
     },
     "metadata": {},
     "output_type": "display_data"
    }
   ],
   "source": [
    "length(Auto$horsepower)"
   ]
  },
  {
   "cell_type": "markdown",
   "metadata": {},
   "source": [
    "  "
   ]
  },
  {
   "cell_type": "markdown",
   "metadata": {},
   "source": [
    "  "
   ]
  },
  {
   "cell_type": "markdown",
   "metadata": {},
   "source": [
    "### 6. 평균의표준오차(standard error of mean, SEM) : 표본평균의 표준편차"
   ]
  },
  {
   "cell_type": "markdown",
   "metadata": {},
   "source": [
    "$ SEM = \\sqrt{Var[\\bar {X}]} = \\frac{s}{\\sqrt{n}}$, &nbsp;&nbsp; ${\\bar {X}} = \\frac{1}{n} \\sum_{i->1}^{n}X_i$"
   ]
  },
  {
   "cell_type": "code",
   "execution_count": 8,
   "metadata": {},
   "outputs": [
    {
     "data": {
      "text/html": [
       "1.94409715744564"
      ],
      "text/latex": [
       "1.94409715744564"
      ],
      "text/markdown": [
       "1.94409715744564"
      ],
      "text/plain": [
       "[1] 1.944097"
      ]
     },
     "metadata": {},
     "output_type": "display_data"
    }
   ],
   "source": [
    "sd(Auto$horsepower)/sqrt(length(Auto$horsepower))"
   ]
  }
 ],
 "metadata": {
  "kernelspec": {
   "display_name": "R",
   "language": "R",
   "name": "ir"
  },
  "language_info": {
   "codemirror_mode": "r",
   "file_extension": ".r",
   "mimetype": "text/x-r-source",
   "name": "R",
   "pygments_lexer": "r",
   "version": "4.0.2"
  }
 },
 "nbformat": 4,
 "nbformat_minor": 4
}
