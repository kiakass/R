{
 "cells": [
  {
   "cell_type": "markdown",
   "metadata": {},
   "source": [
    "# 통계적학습개론 Lab2 2010.10.15"
   ]
  },
  {
   "cell_type": "markdown",
   "metadata": {},
   "source": [
    "  \n",
    "  "
   ]
  },
  {
   "cell_type": "markdown",
   "metadata": {},
   "source": [
    "#### 1. The following questions are based on the Weekly data set, which is part of the ISLR package. This data is similar in nature to the Smarket data, except that it contains 1,089 weekly returns for 21 years, from the beginning of 1990 to the end of 2010."
   ]
  },
  {
   "cell_type": "code",
   "execution_count": 1,
   "metadata": {
    "scrolled": true
   },
   "outputs": [
    {
     "data": {
      "text/html": [
       "<table>\n",
       "<caption>A data.frame: 6 × 9</caption>\n",
       "<thead>\n",
       "\t<tr><th></th><th scope=col>Year</th><th scope=col>Lag1</th><th scope=col>Lag2</th><th scope=col>Lag3</th><th scope=col>Lag4</th><th scope=col>Lag5</th><th scope=col>Volume</th><th scope=col>Today</th><th scope=col>Direction</th></tr>\n",
       "\t<tr><th></th><th scope=col>&lt;dbl&gt;</th><th scope=col>&lt;dbl&gt;</th><th scope=col>&lt;dbl&gt;</th><th scope=col>&lt;dbl&gt;</th><th scope=col>&lt;dbl&gt;</th><th scope=col>&lt;dbl&gt;</th><th scope=col>&lt;dbl&gt;</th><th scope=col>&lt;dbl&gt;</th><th scope=col>&lt;fct&gt;</th></tr>\n",
       "</thead>\n",
       "<tbody>\n",
       "\t<tr><th scope=row>1</th><td>1990</td><td> 0.816</td><td> 1.572</td><td>-3.936</td><td>-0.229</td><td>-3.484</td><td>0.1549760</td><td>-0.270</td><td>Down</td></tr>\n",
       "\t<tr><th scope=row>2</th><td>1990</td><td>-0.270</td><td> 0.816</td><td> 1.572</td><td>-3.936</td><td>-0.229</td><td>0.1485740</td><td>-2.576</td><td>Down</td></tr>\n",
       "\t<tr><th scope=row>3</th><td>1990</td><td>-2.576</td><td>-0.270</td><td> 0.816</td><td> 1.572</td><td>-3.936</td><td>0.1598375</td><td> 3.514</td><td>Up  </td></tr>\n",
       "\t<tr><th scope=row>4</th><td>1990</td><td> 3.514</td><td>-2.576</td><td>-0.270</td><td> 0.816</td><td> 1.572</td><td>0.1616300</td><td> 0.712</td><td>Up  </td></tr>\n",
       "\t<tr><th scope=row>5</th><td>1990</td><td> 0.712</td><td> 3.514</td><td>-2.576</td><td>-0.270</td><td> 0.816</td><td>0.1537280</td><td> 1.178</td><td>Up  </td></tr>\n",
       "\t<tr><th scope=row>6</th><td>1990</td><td> 1.178</td><td> 0.712</td><td> 3.514</td><td>-2.576</td><td>-0.270</td><td>0.1544440</td><td>-1.372</td><td>Down</td></tr>\n",
       "</tbody>\n",
       "</table>\n"
      ],
      "text/latex": [
       "A data.frame: 6 × 9\n",
       "\\begin{tabular}{r|lllllllll}\n",
       "  & Year & Lag1 & Lag2 & Lag3 & Lag4 & Lag5 & Volume & Today & Direction\\\\\n",
       "  & <dbl> & <dbl> & <dbl> & <dbl> & <dbl> & <dbl> & <dbl> & <dbl> & <fct>\\\\\n",
       "\\hline\n",
       "\t1 & 1990 &  0.816 &  1.572 & -3.936 & -0.229 & -3.484 & 0.1549760 & -0.270 & Down\\\\\n",
       "\t2 & 1990 & -0.270 &  0.816 &  1.572 & -3.936 & -0.229 & 0.1485740 & -2.576 & Down\\\\\n",
       "\t3 & 1990 & -2.576 & -0.270 &  0.816 &  1.572 & -3.936 & 0.1598375 &  3.514 & Up  \\\\\n",
       "\t4 & 1990 &  3.514 & -2.576 & -0.270 &  0.816 &  1.572 & 0.1616300 &  0.712 & Up  \\\\\n",
       "\t5 & 1990 &  0.712 &  3.514 & -2.576 & -0.270 &  0.816 & 0.1537280 &  1.178 & Up  \\\\\n",
       "\t6 & 1990 &  1.178 &  0.712 &  3.514 & -2.576 & -0.270 & 0.1544440 & -1.372 & Down\\\\\n",
       "\\end{tabular}\n"
      ],
      "text/markdown": [
       "\n",
       "A data.frame: 6 × 9\n",
       "\n",
       "| <!--/--> | Year &lt;dbl&gt; | Lag1 &lt;dbl&gt; | Lag2 &lt;dbl&gt; | Lag3 &lt;dbl&gt; | Lag4 &lt;dbl&gt; | Lag5 &lt;dbl&gt; | Volume &lt;dbl&gt; | Today &lt;dbl&gt; | Direction &lt;fct&gt; |\n",
       "|---|---|---|---|---|---|---|---|---|---|\n",
       "| 1 | 1990 |  0.816 |  1.572 | -3.936 | -0.229 | -3.484 | 0.1549760 | -0.270 | Down |\n",
       "| 2 | 1990 | -0.270 |  0.816 |  1.572 | -3.936 | -0.229 | 0.1485740 | -2.576 | Down |\n",
       "| 3 | 1990 | -2.576 | -0.270 |  0.816 |  1.572 | -3.936 | 0.1598375 |  3.514 | Up   |\n",
       "| 4 | 1990 |  3.514 | -2.576 | -0.270 |  0.816 |  1.572 | 0.1616300 |  0.712 | Up   |\n",
       "| 5 | 1990 |  0.712 |  3.514 | -2.576 | -0.270 |  0.816 | 0.1537280 |  1.178 | Up   |\n",
       "| 6 | 1990 |  1.178 |  0.712 |  3.514 | -2.576 | -0.270 | 0.1544440 | -1.372 | Down |\n",
       "\n"
      ],
      "text/plain": [
       "  Year Lag1   Lag2   Lag3   Lag4   Lag5   Volume    Today  Direction\n",
       "1 1990  0.816  1.572 -3.936 -0.229 -3.484 0.1549760 -0.270 Down     \n",
       "2 1990 -0.270  0.816  1.572 -3.936 -0.229 0.1485740 -2.576 Down     \n",
       "3 1990 -2.576 -0.270  0.816  1.572 -3.936 0.1598375  3.514 Up       \n",
       "4 1990  3.514 -2.576 -0.270  0.816  1.572 0.1616300  0.712 Up       \n",
       "5 1990  0.712  3.514 -2.576 -0.270  0.816 0.1537280  1.178 Up       \n",
       "6 1990  1.178  0.712  3.514 -2.576 -0.270 0.1544440 -1.372 Down     "
      ]
     },
     "metadata": {},
     "output_type": "display_data"
    }
   ],
   "source": [
    "library(ISLR)\n",
    "head(Weekly)"
   ]
  },
  {
   "cell_type": "code",
   "execution_count": 2,
   "metadata": {},
   "outputs": [
    {
     "data": {
      "text/plain": [
       "      Year           Lag1               Lag2               Lag3         \n",
       " Min.   :1990   Min.   :-18.1950   Min.   :-18.1950   Min.   :-18.1950  \n",
       " 1st Qu.:1995   1st Qu.: -1.1540   1st Qu.: -1.1540   1st Qu.: -1.1580  \n",
       " Median :2000   Median :  0.2410   Median :  0.2410   Median :  0.2410  \n",
       " Mean   :2000   Mean   :  0.1506   Mean   :  0.1511   Mean   :  0.1472  \n",
       " 3rd Qu.:2005   3rd Qu.:  1.4050   3rd Qu.:  1.4090   3rd Qu.:  1.4090  \n",
       " Max.   :2010   Max.   : 12.0260   Max.   : 12.0260   Max.   : 12.0260  \n",
       "      Lag4               Lag5              Volume            Today         \n",
       " Min.   :-18.1950   Min.   :-18.1950   Min.   :0.08747   Min.   :-18.1950  \n",
       " 1st Qu.: -1.1580   1st Qu.: -1.1660   1st Qu.:0.33202   1st Qu.: -1.1540  \n",
       " Median :  0.2380   Median :  0.2340   Median :1.00268   Median :  0.2410  \n",
       " Mean   :  0.1458   Mean   :  0.1399   Mean   :1.57462   Mean   :  0.1499  \n",
       " 3rd Qu.:  1.4090   3rd Qu.:  1.4050   3rd Qu.:2.05373   3rd Qu.:  1.4050  \n",
       " Max.   : 12.0260   Max.   : 12.0260   Max.   :9.32821   Max.   : 12.0260  \n",
       " Direction \n",
       " Down:484  \n",
       " Up  :605  \n",
       "           \n",
       "           \n",
       "           \n",
       "           "
      ]
     },
     "metadata": {},
     "output_type": "display_data"
    }
   ],
   "source": [
    "summary(Weekly)"
   ]
  },
  {
   "cell_type": "code",
   "execution_count": 22,
   "metadata": {},
   "outputs": [
    {
     "data": {
      "image/png": "[encoded data removed]",
      "text/plain": [
       "plot without title"
      ]
     },
     "metadata": {
      "image/png": {
       "height": 300,
       "width": 300
      }
     },
     "output_type": "display_data"
    }
   ],
   "source": [
    "plot(Weekly$Direction, Weekly$Lag1 )\n",
    "options(repr.plot.width=6, repr.plot.height=4)"
   ]
  },
  {
   "cell_type": "code",
   "execution_count": 23,
   "metadata": {},
   "outputs": [
    {
     "data": {
      "image/png": "[encoded data removed]",
      "text/plain": [
       "plot without title"
      ]
     },
     "metadata": {
      "image/png": {
       "height": 240,
       "width": 360
      }
     },
     "output_type": "display_data"
    }
   ],
   "source": [
    "plot(Weekly$Direction, Weekly$Lag2 )\n",
    "options(repr.plot.width=6, repr.plot.height=4)"
   ]
  },
  {
   "cell_type": "code",
   "execution_count": 5,
   "metadata": {},
   "outputs": [
    {
     "data": {
      "text/html": [
       "<table>\n",
       "<caption>A matrix: 5 × 5 of type dbl</caption>\n",
       "<thead>\n",
       "\t<tr><th></th><th scope=col>Lag1</th><th scope=col>Lag2</th><th scope=col>Lag3</th><th scope=col>Lag4</th><th scope=col>Lag5</th></tr>\n",
       "</thead>\n",
       "<tbody>\n",
       "\t<tr><th scope=row>Lag1</th><td> 1.000000000</td><td>-0.07485305</td><td> 0.05863568</td><td>-0.07127388</td><td>-0.008183096</td></tr>\n",
       "\t<tr><th scope=row>Lag2</th><td>-0.074853051</td><td> 1.00000000</td><td>-0.07572091</td><td> 0.05838153</td><td>-0.072499482</td></tr>\n",
       "\t<tr><th scope=row>Lag3</th><td> 0.058635682</td><td>-0.07572091</td><td> 1.00000000</td><td>-0.07539587</td><td> 0.060657175</td></tr>\n",
       "\t<tr><th scope=row>Lag4</th><td>-0.071273876</td><td> 0.05838153</td><td>-0.07539587</td><td> 1.00000000</td><td>-0.075675027</td></tr>\n",
       "\t<tr><th scope=row>Lag5</th><td>-0.008183096</td><td>-0.07249948</td><td> 0.06065717</td><td>-0.07567503</td><td> 1.000000000</td></tr>\n",
       "</tbody>\n",
       "</table>\n"
      ],
      "text/latex": [
       "A matrix: 5 × 5 of type dbl\n",
       "\\begin{tabular}{r|lllll}\n",
       "  & Lag1 & Lag2 & Lag3 & Lag4 & Lag5\\\\\n",
       "\\hline\n",
       "\tLag1 &  1.000000000 & -0.07485305 &  0.05863568 & -0.07127388 & -0.008183096\\\\\n",
       "\tLag2 & -0.074853051 &  1.00000000 & -0.07572091 &  0.05838153 & -0.072499482\\\\\n",
       "\tLag3 &  0.058635682 & -0.07572091 &  1.00000000 & -0.07539587 &  0.060657175\\\\\n",
       "\tLag4 & -0.071273876 &  0.05838153 & -0.07539587 &  1.00000000 & -0.075675027\\\\\n",
       "\tLag5 & -0.008183096 & -0.07249948 &  0.06065717 & -0.07567503 &  1.000000000\\\\\n",
       "\\end{tabular}\n"
      ],
      "text/markdown": [
       "\n",
       "A matrix: 5 × 5 of type dbl\n",
       "\n",
       "| <!--/--> | Lag1 | Lag2 | Lag3 | Lag4 | Lag5 |\n",
       "|---|---|---|---|---|---|\n",
       "| Lag1 |  1.000000000 | -0.07485305 |  0.05863568 | -0.07127388 | -0.008183096 |\n",
       "| Lag2 | -0.074853051 |  1.00000000 | -0.07572091 |  0.05838153 | -0.072499482 |\n",
       "| Lag3 |  0.058635682 | -0.07572091 |  1.00000000 | -0.07539587 |  0.060657175 |\n",
       "| Lag4 | -0.071273876 |  0.05838153 | -0.07539587 |  1.00000000 | -0.075675027 |\n",
       "| Lag5 | -0.008183096 | -0.07249948 |  0.06065717 | -0.07567503 |  1.000000000 |\n",
       "\n"
      ],
      "text/plain": [
       "     Lag1         Lag2        Lag3        Lag4        Lag5        \n",
       "Lag1  1.000000000 -0.07485305  0.05863568 -0.07127388 -0.008183096\n",
       "Lag2 -0.074853051  1.00000000 -0.07572091  0.05838153 -0.072499482\n",
       "Lag3  0.058635682 -0.07572091  1.00000000 -0.07539587  0.060657175\n",
       "Lag4 -0.071273876  0.05838153 -0.07539587  1.00000000 -0.075675027\n",
       "Lag5 -0.008183096 -0.07249948  0.06065717 -0.07567503  1.000000000"
      ]
     },
     "metadata": {},
     "output_type": "display_data"
    }
   ],
   "source": [
    "cor(Weekly[,2:6])"
   ]
  },
  {
   "cell_type": "markdown",
   "metadata": {},
   "source": [
    "##### 2) Using all data (no training data and test data separation) perform a logistic regression with Direction as the response and the five Lag variables plus Volume as predictors. Use the summary function to print the results. Do any of the predictors appear to be statistically significant? If so, which ones?"
   ]
  },
  {
   "cell_type": "code",
   "execution_count": 6,
   "metadata": {},
   "outputs": [
    {
     "data": {
      "text/plain": [
       "\n",
       "Call:\n",
       "glm(formula = Direction ~ Lag1 + Lag2 + Lag3 + Lag4 + Lag5 + \n",
       "    Volume, family = binomial, data = Weekly)\n",
       "\n",
       "Deviance Residuals: \n",
       "    Min       1Q   Median       3Q      Max  \n",
       "-1.6949  -1.2565   0.9913   1.0849   1.4579  \n",
       "\n",
       "Coefficients:\n",
       "            Estimate Std. Error z value Pr(>|z|)   \n",
       "(Intercept)  0.26686    0.08593   3.106   0.0019 **\n",
       "Lag1        -0.04127    0.02641  -1.563   0.1181   \n",
       "Lag2         0.05844    0.02686   2.175   0.0296 * \n",
       "Lag3        -0.01606    0.02666  -0.602   0.5469   \n",
       "Lag4        -0.02779    0.02646  -1.050   0.2937   \n",
       "Lag5        -0.01447    0.02638  -0.549   0.5833   \n",
       "Volume      -0.02274    0.03690  -0.616   0.5377   \n",
       "---\n",
       "Signif. codes:  0 '***' 0.001 '**' 0.01 '*' 0.05 '.' 0.1 ' ' 1\n",
       "\n",
       "(Dispersion parameter for binomial family taken to be 1)\n",
       "\n",
       "    Null deviance: 1496.2  on 1088  degrees of freedom\n",
       "Residual deviance: 1486.4  on 1082  degrees of freedom\n",
       "AIC: 1500.4\n",
       "\n",
       "Number of Fisher Scoring iterations: 4\n"
      ]
     },
     "metadata": {},
     "output_type": "display_data"
    }
   ],
   "source": [
    "glm.fit = glm(Direction ~ Lag1+Lag2+Lag3+Lag4+Lag5+Volume, data=Weekly, family=binomial  )\n",
    "summary(glm.fit)"
   ]
  },
  {
   "cell_type": "markdown",
   "metadata": {},
   "source": [
    "  "
   ]
  },
  {
   "cell_type": "markdown",
   "metadata": {},
   "source": [
    "#### **3) Using your logistic regression result, you can compute the posterior probability p(x) = P(Y = 1jX = x) using predict(Obj, Data, type=\"response\"), where Y is Direction. Also you can confirm the label corresponding to Y = 1 by examining the result of the glm output (try names(glm.fit)). What is your Y = 1, Down or Up ? Can you change the label corresponding to Y = 0 (which is called the level of reference) ?**"
   ]
  },
  {
   "cell_type": "code",
   "execution_count": 7,
   "metadata": {},
   "outputs": [
    {
     "data": {
      "text/html": [
       "<style>\n",
       ".list-inline {list-style: none; margin:0; padding: 0}\n",
       ".list-inline>li {display: inline-block}\n",
       ".list-inline>li:not(:last-child)::after {content: \"\\00b7\"; padding: 0 .5ex}\n",
       "</style>\n",
       "<ol class=list-inline><li>'coefficients'</li><li>'residuals'</li><li>'fitted.values'</li><li>'effects'</li><li>'R'</li><li>'rank'</li><li>'qr'</li><li>'family'</li><li>'linear.predictors'</li><li>'deviance'</li><li>'aic'</li><li>'null.deviance'</li><li>'iter'</li><li>'weights'</li><li>'prior.weights'</li><li>'df.residual'</li><li>'df.null'</li><li>'y'</li><li>'converged'</li><li>'boundary'</li><li>'model'</li><li>'call'</li><li>'formula'</li><li>'terms'</li><li>'data'</li><li>'offset'</li><li>'control'</li><li>'method'</li><li>'contrasts'</li><li>'xlevels'</li></ol>\n"
      ],
      "text/latex": [
       "\\begin{enumerate*}\n",
       "\\item 'coefficients'\n",
       "\\item 'residuals'\n",
       "\\item 'fitted.values'\n",
       "\\item 'effects'\n",
       "\\item 'R'\n",
       "\\item 'rank'\n",
       "\\item 'qr'\n",
       "\\item 'family'\n",
       "\\item 'linear.predictors'\n",
       "\\item 'deviance'\n",
       "\\item 'aic'\n",
       "\\item 'null.deviance'\n",
       "\\item 'iter'\n",
       "\\item 'weights'\n",
       "\\item 'prior.weights'\n",
       "\\item 'df.residual'\n",
       "\\item 'df.null'\n",
       "\\item 'y'\n",
       "\\item 'converged'\n",
       "\\item 'boundary'\n",
       "\\item 'model'\n",
       "\\item 'call'\n",
       "\\item 'formula'\n",
       "\\item 'terms'\n",
       "\\item 'data'\n",
       "\\item 'offset'\n",
       "\\item 'control'\n",
       "\\item 'method'\n",
       "\\item 'contrasts'\n",
       "\\item 'xlevels'\n",
       "\\end{enumerate*}\n"
      ],
      "text/markdown": [
       "1. 'coefficients'\n",
       "2. 'residuals'\n",
       "3. 'fitted.values'\n",
       "4. 'effects'\n",
       "5. 'R'\n",
       "6. 'rank'\n",
       "7. 'qr'\n",
       "8. 'family'\n",
       "9. 'linear.predictors'\n",
       "10. 'deviance'\n",
       "11. 'aic'\n",
       "12. 'null.deviance'\n",
       "13. 'iter'\n",
       "14. 'weights'\n",
       "15. 'prior.weights'\n",
       "16. 'df.residual'\n",
       "17. 'df.null'\n",
       "18. 'y'\n",
       "19. 'converged'\n",
       "20. 'boundary'\n",
       "21. 'model'\n",
       "22. 'call'\n",
       "23. 'formula'\n",
       "24. 'terms'\n",
       "25. 'data'\n",
       "26. 'offset'\n",
       "27. 'control'\n",
       "28. 'method'\n",
       "29. 'contrasts'\n",
       "30. 'xlevels'\n",
       "\n",
       "\n"
      ],
      "text/plain": [
       " [1] \"coefficients\"      \"residuals\"         \"fitted.values\"    \n",
       " [4] \"effects\"           \"R\"                 \"rank\"             \n",
       " [7] \"qr\"                \"family\"            \"linear.predictors\"\n",
       "[10] \"deviance\"          \"aic\"               \"null.deviance\"    \n",
       "[13] \"iter\"              \"weights\"           \"prior.weights\"    \n",
       "[16] \"df.residual\"       \"df.null\"           \"y\"                \n",
       "[19] \"converged\"         \"boundary\"          \"model\"            \n",
       "[22] \"call\"              \"formula\"           \"terms\"            \n",
       "[25] \"data\"              \"offset\"            \"control\"          \n",
       "[28] \"method\"            \"contrasts\"         \"xlevels\"          "
      ]
     },
     "metadata": {},
     "output_type": "display_data"
    }
   ],
   "source": [
    "names(glm.fit)"
   ]
  },
  {
   "cell_type": "code",
   "execution_count": 8,
   "metadata": {},
   "outputs": [
    {
     "data": {
      "text/html": [
       "<table>\n",
       "<caption>A data.frame: 6 × 2</caption>\n",
       "<thead>\n",
       "\t<tr><th></th><th scope=col>pred</th><th scope=col>Y</th></tr>\n",
       "\t<tr><th></th><th scope=col>&lt;dbl&gt;</th><th scope=col>&lt;dbl&gt;</th></tr>\n",
       "</thead>\n",
       "<tbody>\n",
       "\t<tr><th scope=row>1</th><td>0.6086249</td><td>1</td></tr>\n",
       "\t<tr><th scope=row>2</th><td>0.6010314</td><td>1</td></tr>\n",
       "\t<tr><th scope=row>3</th><td>0.5875699</td><td>1</td></tr>\n",
       "\t<tr><th scope=row>4</th><td>0.4816416</td><td>0</td></tr>\n",
       "\t<tr><th scope=row>5</th><td>0.6169013</td><td>1</td></tr>\n",
       "\t<tr><th scope=row>6</th><td>0.5684190</td><td>1</td></tr>\n",
       "</tbody>\n",
       "</table>\n"
      ],
      "text/latex": [
       "A data.frame: 6 × 2\n",
       "\\begin{tabular}{r|ll}\n",
       "  & pred & Y\\\\\n",
       "  & <dbl> & <dbl>\\\\\n",
       "\\hline\n",
       "\t1 & 0.6086249 & 1\\\\\n",
       "\t2 & 0.6010314 & 1\\\\\n",
       "\t3 & 0.5875699 & 1\\\\\n",
       "\t4 & 0.4816416 & 0\\\\\n",
       "\t5 & 0.6169013 & 1\\\\\n",
       "\t6 & 0.5684190 & 1\\\\\n",
       "\\end{tabular}\n"
      ],
      "text/markdown": [
       "\n",
       "A data.frame: 6 × 2\n",
       "\n",
       "| <!--/--> | pred &lt;dbl&gt; | Y &lt;dbl&gt; |\n",
       "|---|---|---|\n",
       "| 1 | 0.6086249 | 1 |\n",
       "| 2 | 0.6010314 | 1 |\n",
       "| 3 | 0.5875699 | 1 |\n",
       "| 4 | 0.4816416 | 0 |\n",
       "| 5 | 0.6169013 | 1 |\n",
       "| 6 | 0.5684190 | 1 |\n",
       "\n"
      ],
      "text/plain": [
       "  pred      Y\n",
       "1 0.6086249 1\n",
       "2 0.6010314 1\n",
       "3 0.5875699 1\n",
       "4 0.4816416 0\n",
       "5 0.6169013 1\n",
       "6 0.5684190 1"
      ]
     },
     "metadata": {},
     "output_type": "display_data"
    }
   ],
   "source": [
    "glm.pred <- predict(glm.fit, type=\"response\" )\n",
    "head(data.frame( pred=c(glm.pred), Y=c(ifelse(glm.pred > 0.5,1,0))))"
   ]
  },
  {
   "cell_type": "markdown",
   "metadata": {},
   "source": [
    "  "
   ]
  },
  {
   "cell_type": "markdown",
   "metadata": {},
   "source": [
    "#### **4) Plot histogram of the Lag2's with Direction==Up and the Lag2's with Direction==Down, separately.<br /> &nbsp;&nbsp;&nbsp; Find mean for each case.**"
   ]
  },
  {
   "cell_type": "code",
   "execution_count": 9,
   "metadata": {},
   "outputs": [
    {
     "data": {
      "image/png": "[encoded data removed]",
      "text/plain": [
       "Plot with title \"Histogram of glm.pred[glm.pred.Direction == \"UP\"]\""
      ]
     },
     "metadata": {
      "image/png": {
       "height": 240,
       "width": 360
      }
     },
     "output_type": "display_data"
    }
   ],
   "source": [
    "glm.pred.Direction <- ifelse(glm.pred > 0.5,\"UP\",\"Down\")\n",
    "hist(glm.pred[glm.pred.Direction==\"UP\"])\n",
    "options(repr.plot.width=6, repr.plot.height=4)"
   ]
  },
  {
   "cell_type": "code",
   "execution_count": 10,
   "metadata": {
    "scrolled": true
   },
   "outputs": [
    {
     "data": {
      "image/png": "[encoded data removed]",
      "text/plain": [
       "Plot with title \"Histogram of glm.pred[glm.pred.Direction == \"Down\"]\""
      ]
     },
     "metadata": {
      "image/png": {
       "height": 240,
       "width": 360
      }
     },
     "output_type": "display_data"
    }
   ],
   "source": [
    "hist(glm.pred[glm.pred.Direction==\"Down\"], breaks=10)\n",
    "options(repr.plot.width=6, repr.plot.height=4)"
   ]
  },
  {
   "cell_type": "code",
   "execution_count": 11,
   "metadata": {},
   "outputs": [
    {
     "data": {
      "text/html": [
       "0.564415146869449"
      ],
      "text/latex": [
       "0.564415146869449"
      ],
      "text/markdown": [
       "0.564415146869449"
      ],
      "text/plain": [
       "[1] 0.5644151"
      ]
     },
     "metadata": {},
     "output_type": "display_data"
    }
   ],
   "source": [
    "mean(glm.pred[ glm.pred.Direction =='UP']) #UP"
   ]
  },
  {
   "cell_type": "code",
   "execution_count": 12,
   "metadata": {},
   "outputs": [
    {
     "data": {
      "text/html": [
       "0.469825980782868"
      ],
      "text/latex": [
       "0.469825980782868"
      ],
      "text/markdown": [
       "0.469825980782868"
      ],
      "text/plain": [
       "[1] 0.469826"
      ]
     },
     "metadata": {},
     "output_type": "display_data"
    }
   ],
   "source": [
    "mean(glm.pred[ glm.pred.Direction =='Down']) #Down"
   ]
  },
  {
   "cell_type": "code",
   "execution_count": 13,
   "metadata": {},
   "outputs": [
    {
     "data": {
      "text/html": [
       "<table>\n",
       "<caption>A data.frame: 6 × 4</caption>\n",
       "<thead>\n",
       "\t<tr><th></th><th scope=col>real</th><th scope=col>glm.y</th><th scope=col>pred.prob</th><th scope=col>conv.pred</th></tr>\n",
       "\t<tr><th></th><th scope=col>&lt;fct&gt;</th><th scope=col>&lt;dbl&gt;</th><th scope=col>&lt;dbl&gt;</th><th scope=col>&lt;chr&gt;</th></tr>\n",
       "</thead>\n",
       "<tbody>\n",
       "\t<tr><th scope=row>1</th><td>Down</td><td>0</td><td>0.6086249</td><td>UP  </td></tr>\n",
       "\t<tr><th scope=row>2</th><td>Down</td><td>0</td><td>0.6010314</td><td>UP  </td></tr>\n",
       "\t<tr><th scope=row>3</th><td>Up  </td><td>1</td><td>0.5875699</td><td>UP  </td></tr>\n",
       "\t<tr><th scope=row>4</th><td>Up  </td><td>1</td><td>0.4816416</td><td>Down</td></tr>\n",
       "\t<tr><th scope=row>5</th><td>Up  </td><td>1</td><td>0.6169013</td><td>UP  </td></tr>\n",
       "\t<tr><th scope=row>6</th><td>Down</td><td>0</td><td>0.5684190</td><td>UP  </td></tr>\n",
       "</tbody>\n",
       "</table>\n"
      ],
      "text/latex": [
       "A data.frame: 6 × 4\n",
       "\\begin{tabular}{r|llll}\n",
       "  & real & glm.y & pred.prob & conv.pred\\\\\n",
       "  & <fct> & <dbl> & <dbl> & <chr>\\\\\n",
       "\\hline\n",
       "\t1 & Down & 0 & 0.6086249 & UP  \\\\\n",
       "\t2 & Down & 0 & 0.6010314 & UP  \\\\\n",
       "\t3 & Up   & 1 & 0.5875699 & UP  \\\\\n",
       "\t4 & Up   & 1 & 0.4816416 & Down\\\\\n",
       "\t5 & Up   & 1 & 0.6169013 & UP  \\\\\n",
       "\t6 & Down & 0 & 0.5684190 & UP  \\\\\n",
       "\\end{tabular}\n"
      ],
      "text/markdown": [
       "\n",
       "A data.frame: 6 × 4\n",
       "\n",
       "| <!--/--> | real &lt;fct&gt; | glm.y &lt;dbl&gt; | pred.prob &lt;dbl&gt; | conv.pred &lt;chr&gt; |\n",
       "|---|---|---|---|---|\n",
       "| 1 | Down | 0 | 0.6086249 | UP   |\n",
       "| 2 | Down | 0 | 0.6010314 | UP   |\n",
       "| 3 | Up   | 1 | 0.5875699 | UP   |\n",
       "| 4 | Up   | 1 | 0.4816416 | Down |\n",
       "| 5 | Up   | 1 | 0.6169013 | UP   |\n",
       "| 6 | Down | 0 | 0.5684190 | UP   |\n",
       "\n"
      ],
      "text/plain": [
       "  real glm.y pred.prob conv.pred\n",
       "1 Down 0     0.6086249 UP       \n",
       "2 Down 0     0.6010314 UP       \n",
       "3 Up   1     0.5875699 UP       \n",
       "4 Up   1     0.4816416 Down     \n",
       "5 Up   1     0.6169013 UP       \n",
       "6 Down 0     0.5684190 UP       "
      ]
     },
     "metadata": {},
     "output_type": "display_data"
    }
   ],
   "source": [
    "comp=data.frame(real=Weekly$Direction, glm.y=glm.fit$y, pred.prob=c(glm.pred), conv.pred=c(glm.pred.Direction))\n",
    "head(comp)"
   ]
  },
  {
   "cell_type": "markdown",
   "metadata": {},
   "source": [
    "  \n",
    "  "
   ]
  },
  {
   "cell_type": "markdown",
   "metadata": {},
   "source": [
    "#### **5) Now fit the logistic regression model using a training data period from 1990 to 2008, with Lag2 as the only predictor.<br /><br /> Based on the posterior probability from the glm result, determine your predicted Direction for the test data, that is, Lag2 from 2009 to 2010. <br /><br />Generate confusion matrix and the overall fraction of correct predictions for the test data (that is, the data from 2009 and 2010). Plot ROC curve and compute AUC.**"
   ]
  },
  {
   "cell_type": "code",
   "execution_count": 14,
   "metadata": {},
   "outputs": [
    {
     "data": {
      "text/plain": [
       "\n",
       "Call:\n",
       "glm(formula = Direction ~ Lag2, family = \"binomial\", data = Weekly[train, \n",
       "    ])\n",
       "\n",
       "Deviance Residuals: \n",
       "   Min      1Q  Median      3Q     Max  \n",
       "-1.395  -1.274   1.028   1.082   1.305  \n",
       "\n",
       "Coefficients:\n",
       "            Estimate Std. Error z value Pr(>|z|)    \n",
       "(Intercept)  0.22658    0.06621   3.422 0.000621 ***\n",
       "Lag2         0.04716    0.03230   1.460 0.144293    \n",
       "---\n",
       "Signif. codes:  0 '***' 0.001 '**' 0.01 '*' 0.05 '.' 0.1 ' ' 1\n",
       "\n",
       "(Dispersion parameter for binomial family taken to be 1)\n",
       "\n",
       "    Null deviance: 1280.6  on 932  degrees of freedom\n",
       "Residual deviance: 1278.5  on 931  degrees of freedom\n",
       "AIC: 1282.5\n",
       "\n",
       "Number of Fisher Scoring iterations: 4\n"
      ]
     },
     "metadata": {},
     "output_type": "display_data"
    }
   ],
   "source": [
    "train=(Weekly$Year<2008)\n",
    "glm.fit=glm(Direction~Lag2, data=Weekly[train,], family=\"binomial\")\n",
    "summary(glm.fit)"
   ]
  },
  {
   "cell_type": "code",
   "execution_count": 15,
   "metadata": {},
   "outputs": [
    {
     "data": {
      "text/html": [
       "<style>\n",
       ".dl-inline {width: auto; margin:0; padding: 0}\n",
       ".dl-inline>dt, .dl-inline>dd {float: none; width: auto; display: inline-block}\n",
       ".dl-inline>dt::after {content: \":\\0020\"; padding-right: .5ex}\n",
       ".dl-inline>dt:not(:first-of-type) {padding-left: .5ex}\n",
       "</style><dl class=dl-inline><dt>Down</dt><dd>72</dd><dt>Up</dt><dd>84</dd></dl>\n"
      ],
      "text/latex": [
       "\\begin{description*}\n",
       "\\item[Down] 72\n",
       "\\item[Up] 84\n",
       "\\end{description*}\n"
      ],
      "text/markdown": [
       "Down\n",
       ":   72Up\n",
       ":   84\n",
       "\n"
      ],
      "text/plain": [
       "Down   Up \n",
       "  72   84 "
      ]
     },
     "metadata": {},
     "output_type": "display_data"
    }
   ],
   "source": [
    "Direction.2009 <- Weekly$Direction[!train]\n",
    "Weekly.2009 <- Weekly[!train,]\n",
    "summary(Direction.2009)"
   ]
  },
  {
   "cell_type": "code",
   "execution_count": 16,
   "metadata": {},
   "outputs": [],
   "source": [
    "glm.pred = predict(glm.fit, Weekly.2009, type=\"response\")"
   ]
  },
  {
   "cell_type": "code",
   "execution_count": 17,
   "metadata": {},
   "outputs": [
    {
     "data": {
      "text/plain": [
       "                  Direction.2009\n",
       "glm.pred.Direction Down Up\n",
       "              Down    7  5\n",
       "              Up     65 79"
      ]
     },
     "metadata": {},
     "output_type": "display_data"
    }
   ],
   "source": [
    "glm.pred.Direction <- ifelse(glm.pred > 0.5,\"Up\",\"Down\")\n",
    "table(glm.pred.Direction, Direction.2009)"
   ]
  },
  {
   "cell_type": "code",
   "execution_count": 18,
   "metadata": {},
   "outputs": [
    {
     "data": {
      "text/html": [
       "86"
      ],
      "text/latex": [
       "86"
      ],
      "text/markdown": [
       "86"
      ],
      "text/plain": [
       "[1] 86"
      ]
     },
     "metadata": {},
     "output_type": "display_data"
    },
    {
     "data": {
      "text/html": [
       "0.551282051282051"
      ],
      "text/latex": [
       "0.551282051282051"
      ],
      "text/markdown": [
       "0.551282051282051"
      ],
      "text/plain": [
       "[1] 0.5512821"
      ]
     },
     "metadata": {},
     "output_type": "display_data"
    }
   ],
   "source": [
    "sum(glm.pred.Direction == Direction.2009)\n",
    "mean( glm.pred.Direction == Direction.2009 )"
   ]
  },
  {
   "cell_type": "code",
   "execution_count": 24,
   "metadata": {},
   "outputs": [
    {
     "data": {
      "text/plain": [
       "Confusion Matrix and Statistics\n",
       "\n",
       "          Reference\n",
       "Prediction Down Up\n",
       "      Down    7  5\n",
       "      Up     65 79\n",
       "                                          \n",
       "               Accuracy : 0.5513          \n",
       "                 95% CI : (0.4697, 0.6309)\n",
       "    No Information Rate : 0.5385          \n",
       "    P-Value [Acc > NIR] : 0.4056          \n",
       "                                          \n",
       "                  Kappa : 0.0401          \n",
       "                                          \n",
       " Mcnemar's Test P-Value : 1.766e-12       \n",
       "                                          \n",
       "            Sensitivity : 0.09722         \n",
       "            Specificity : 0.94048         \n",
       "         Pos Pred Value : 0.58333         \n",
       "         Neg Pred Value : 0.54861         \n",
       "             Prevalence : 0.46154         \n",
       "         Detection Rate : 0.04487         \n",
       "   Detection Prevalence : 0.07692         \n",
       "      Balanced Accuracy : 0.51885         \n",
       "                                          \n",
       "       'Positive' Class : Down            \n",
       "                                          "
      ]
     },
     "metadata": {},
     "output_type": "display_data"
    }
   ],
   "source": [
    "library(caret)\n",
    "confusionMatrix(as.factor(glm.pred.Direction), Direction.2009)"
   ]
  },
  {
   "cell_type": "code",
   "execution_count": 20,
   "metadata": {},
   "outputs": [
    {
     "data": {
      "image/png": "[encoded data removed]",
      "text/plain": [
       "plot without title"
      ]
     },
     "metadata": {
      "image/png": {
       "height": 240,
       "width": 360
      }
     },
     "output_type": "display_data"
    }
   ],
   "source": [
    "library(ROCR)\n",
    "pred<-prediction(glm.pred, Direction.2009)\n",
    "roc<-performance(pred, measure='tpr', x.measure = 'fpr')\n",
    "plot(roc)\n",
    "options(repr.plot.width=5, repr.plot.height=5)"
   ]
  },
  {
   "cell_type": "code",
   "execution_count": 21,
   "metadata": {},
   "outputs": [
    {
     "data": {
      "text/html": [
       "<ol>\n",
       "\t<li>0.582506613756614</li>\n",
       "</ol>\n"
      ],
      "text/latex": [
       "\\begin{enumerate}\n",
       "\\item 0.582506613756614\n",
       "\\end{enumerate}\n"
      ],
      "text/markdown": [
       "1. 0.582506613756614\n",
       "\n",
       "\n"
      ],
      "text/plain": [
       "[[1]]\n",
       "[1] 0.5825066\n"
      ]
     },
     "metadata": {},
     "output_type": "display_data"
    }
   ],
   "source": [
    "auc<-performance(pred, measure=\"auc\")\n",
    "auc@y.values[1]"
   ]
  },
  {
   "cell_type": "code",
   "execution_count": null,
   "metadata": {},
   "outputs": [],
   "source": []
  }
 ],
 "metadata": {
  "kernelspec": {
   "display_name": "R",
   "language": "R",
   "name": "ir"
  },
  "language_info": {
   "codemirror_mode": "r",
   "file_extension": ".r",
   "mimetype": "text/x-r-source",
   "name": "R",
   "pygments_lexer": "r",
   "version": "4.0.2"
  }
 },
 "nbformat": 4,
 "nbformat_minor": 4
}
