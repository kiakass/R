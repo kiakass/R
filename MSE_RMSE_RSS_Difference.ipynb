{
 "cells": [
  {
   "cell_type": "markdown",
   "metadata": {},
   "source": [
    "## Residual(잔차), RSS, RSE, MSE, RMSE 의 차이"
   ]
  },
  {
   "cell_type": "markdown",
   "metadata": {},
   "source": [
    "  "
   ]
  },
  {
   "cell_type": "markdown",
   "metadata": {},
   "source": [
    "  "
   ]
  },
  {
   "cell_type": "code",
   "execution_count": 6,
   "metadata": {},
   "outputs": [],
   "source": [
    "library(ISLR)\n",
    "library(MASS)"
   ]
  },
  {
   "cell_type": "code",
   "execution_count": 13,
   "metadata": {
    "scrolled": true
   },
   "outputs": [
    {
     "data": {
      "text/plain": [
       "\n",
       "Call:\n",
       "lm(formula = mpg ~ horsepower, data = Auto)\n",
       "\n",
       "Residuals:\n",
       "     Min       1Q   Median       3Q      Max \n",
       "-13.5710  -3.2592  -0.3435   2.7630  16.9240 \n",
       "\n",
       "Coefficients:\n",
       "             Estimate Std. Error t value Pr(>|t|)    \n",
       "(Intercept) 39.935861   0.717499   55.66   <2e-16 ***\n",
       "horsepower  -0.157845   0.006446  -24.49   <2e-16 ***\n",
       "---\n",
       "Signif. codes:  0 '***' 0.001 '**' 0.01 '*' 0.05 '.' 0.1 ' ' 1\n",
       "\n",
       "Residual standard error: 4.906 on 390 degrees of freedom\n",
       "Multiple R-squared:  0.6059,\tAdjusted R-squared:  0.6049 \n",
       "F-statistic: 599.7 on 1 and 390 DF,  p-value: < 2.2e-16\n"
      ]
     },
     "metadata": {},
     "output_type": "display_data"
    }
   ],
   "source": [
    "lm.fit <- lm(mpg~horsepower, data=Auto)\n",
    "summary(lm.fit)"
   ]
  },
  {
   "cell_type": "markdown",
   "metadata": {},
   "source": [
    "----"
   ]
  },
  {
   "cell_type": "markdown",
   "metadata": {},
   "source": [
    "### 1. Residuals - 잔차\n",
    " - 만약 __모집단__ 에서 회귀식을 얻었다면, 그 회귀식을 통해 얻은 예측값과 실제 관측값의 차이가 __오차__ 이다. <br>\n",
    " - 반면 __표본집단__ 에서 회귀식을 얻었다면, 그 회귀식을 통해 얻은 예측값과 실제 관측값의 차이가 __잔차__ 이다"
   ]
  },
  {
   "cell_type": "code",
   "execution_count": 25,
   "metadata": {
    "scrolled": false
   },
   "outputs": [
    {
     "data": {
      "text/html": [
       "<style>\n",
       ".dl-inline {width: auto; margin:0; padding: 0}\n",
       ".dl-inline>dt, .dl-inline>dd {float: none; width: auto; display: inline-block}\n",
       ".dl-inline>dt::after {content: \":\\0020\"; padding-right: .5ex}\n",
       ".dl-inline>dt:not(:first-of-type) {padding-left: .5ex}\n",
       "</style><dl class=dl-inline><dt>1</dt><dd>-1.41604568519558</dd><dt>2</dt><dd>1.10851998218221</dd><dt>3</dt><dd>1.74084898187758</dd><dt>4</dt><dd>-0.259151018122425</dd><dt>5</dt><dd>-0.837598351658961</dd><dt>6</dt><dd>6.31739618285295</dd></dl>\n"
      ],
      "text/latex": [
       "\\begin{description*}\n",
       "\\item[1] -1.41604568519558\n",
       "\\item[2] 1.10851998218221\n",
       "\\item[3] 1.74084898187758\n",
       "\\item[4] -0.259151018122425\n",
       "\\item[5] -0.837598351658961\n",
       "\\item[6] 6.31739618285295\n",
       "\\end{description*}\n"
      ],
      "text/markdown": [
       "1\n",
       ":   -1.416045685195582\n",
       ":   1.108519982182213\n",
       ":   1.740848981877584\n",
       ":   -0.2591510181224255\n",
       ":   -0.8375983516589616\n",
       ":   6.31739618285295\n",
       "\n"
      ],
      "text/plain": [
       "         1          2          3          4          5          6 \n",
       "-1.4160457  1.1085200  1.7408490 -0.2591510 -0.8375984  6.3173962 "
      ]
     },
     "metadata": {},
     "output_type": "display_data"
    }
   ],
   "source": [
    "head(residuals(lm.fit))"
   ]
  },
  {
   "cell_type": "markdown",
   "metadata": {},
   "source": [
    "  \n",
    " "
   ]
  },
  {
   "cell_type": "markdown",
   "metadata": {},
   "source": [
    "### 2. RSS : Residual Sum of Squre  -  잔차 제곱의 합"
   ]
  },
  {
   "cell_type": "code",
   "execution_count": 26,
   "metadata": {
    "scrolled": true
   },
   "outputs": [
    {
     "data": {
      "text/html": [
       "9385.91587193242"
      ],
      "text/latex": [
       "9385.91587193242"
      ],
      "text/markdown": [
       "9385.91587193242"
      ],
      "text/plain": [
       "[1] 9385.916"
      ]
     },
     "metadata": {},
     "output_type": "display_data"
    }
   ],
   "source": [
    "rss <- sum(residuals(lm.fit)^2)\n",
    "rss"
   ]
  },
  {
   "cell_type": "markdown",
   "metadata": {},
   "source": [
    "  "
   ]
  },
  {
   "cell_type": "markdown",
   "metadata": {},
   "source": [
    "### 3. RSE : Residual Standard Error  - 잔차 표준 오차\n",
    "- RSE = (RSS/자유도) 의 제곱근, df=degree of freedom"
   ]
  },
  {
   "cell_type": "code",
   "execution_count": 35,
   "metadata": {
    "scrolled": true
   },
   "outputs": [
    {
     "data": {
      "text/html": [
       "4.90575691954594"
      ],
      "text/latex": [
       "4.90575691954594"
      ],
      "text/markdown": [
       "4.90575691954594"
      ],
      "text/plain": [
       "[1] 4.905757"
      ]
     },
     "metadata": {},
     "output_type": "display_data"
    }
   ],
   "source": [
    "rse <- sqrt( rss / lm.fit$df.residual )\n",
    "rse"
   ]
  },
  {
   "cell_type": "markdown",
   "metadata": {},
   "source": [
    "  "
   ]
  },
  {
   "cell_type": "markdown",
   "metadata": {},
   "source": [
    "### 4. MSE : Mean Squre Error - 평균 제곱 오차 \n",
    "- MSE = 잔차의 제곱의 평균임"
   ]
  },
  {
   "cell_type": "code",
   "execution_count": 8,
   "metadata": {},
   "outputs": [
    {
     "data": {
      "text/html": [
       "23.9436629386031"
      ],
      "text/latex": [
       "23.9436629386031"
      ],
      "text/markdown": [
       "23.9436629386031"
      ],
      "text/plain": [
       "[1] 23.94366"
      ]
     },
     "metadata": {},
     "output_type": "display_data"
    }
   ],
   "source": [
    "mse <- mean(residuals(lm.fit)^2)\n",
    "mse"
   ]
  },
  {
   "cell_type": "markdown",
   "metadata": {},
   "source": [
    "  "
   ]
  },
  {
   "cell_type": "markdown",
   "metadata": {},
   "source": [
    "### 5. RMSE : Root Mean Squared Error - 평균 제곱근 편차\n",
    "- MSE 의 제곱근"
   ]
  },
  {
   "cell_type": "code",
   "execution_count": 34,
   "metadata": {},
   "outputs": [
    {
     "data": {
      "text/html": [
       "4.89322623006571"
      ],
      "text/latex": [
       "4.89322623006571"
      ],
      "text/markdown": [
       "4.89322623006571"
      ],
      "text/plain": [
       "[1] 4.893226"
      ]
     },
     "metadata": {},
     "output_type": "display_data"
    }
   ],
   "source": [
    "rmse <- sqrt(mse)\n",
    "rmse"
   ]
  },
  {
   "cell_type": "code",
   "execution_count": null,
   "metadata": {},
   "outputs": [],
   "source": []
  }
 ],
 "metadata": {
  "kernelspec": {
   "display_name": "R",
   "language": "R",
   "name": "ir"
  },
  "language_info": {
   "codemirror_mode": "r",
   "file_extension": ".r",
   "mimetype": "text/x-r-source",
   "name": "R",
   "pygments_lexer": "r",
   "version": "4.0.2"
  }
 },
 "nbformat": 4,
 "nbformat_minor": 4
}
